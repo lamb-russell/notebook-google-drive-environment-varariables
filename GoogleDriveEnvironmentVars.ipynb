{
  "nbformat": 4,
  "nbformat_minor": 0,
  "metadata": {
    "colab": {
      "provenance": []
    },
    "kernelspec": {
      "name": "python3",
      "display_name": "Python 3"
    },
    "language_info": {
      "name": "python"
    }
  },
  "cells": [
    {
      "cell_type": "code",
      "execution_count": 30,
      "metadata": {
        "id": "VKMgKcLA_KIH"
      },
      "outputs": [],
      "source": [
        "ENVIRONMENT_VAR_PATH=\"/content/drive/MyDrive/ENV_VARS/env_test.txt\"\n",
        "GOOGLE_DRIVE_ROOT=\"/content/drive\"\n",
        "ENVIRONMENT_VAR_NAME=\"TEST_ENV_VAR_COLAB\""
      ]
    },
    {
      "cell_type": "markdown",
      "source": [
        "# Load Environment Variables from Google Drive\n",
        "\n",
        "This notebook shows an exmaple of how to store and load environment variables to and from Google Drive\n",
        "\n",
        "1. mount your google drive\n",
        "1. test variables do not exist\n",
        "1. Create a file with environment variables\n",
        "1. Store file on google drive\n",
        "1. install dotenv\n",
        "1. load env variables from file using dotenv\n",
        "1. test variables exist"
      ],
      "metadata": {
        "id": "AWlsjMietO5B"
      }
    },
    {
      "cell_type": "code",
      "source": [
        "# Mount google drive\n",
        "from google.colab import drive\n",
        "\n",
        "drive.mount(GOOGLE_DRIVE_ROOT)"
      ],
      "metadata": {
        "colab": {
          "base_uri": "https://localhost:8080/"
        },
        "id": "riVILFubtNhy",
        "outputId": "cf275173-ee14-492e-cec0-cff838ddbcb1"
      },
      "execution_count": 31,
      "outputs": [
        {
          "output_type": "stream",
          "name": "stdout",
          "text": [
            "Drive already mounted at /content/drive; to attempt to forcibly remount, call drive.mount(\"/content/drive\", force_remount=True).\n"
          ]
        }
      ]
    },
    {
      "cell_type": "code",
      "source": [
        "\n",
        "# check environment var is empty\n",
        "import os\n",
        "\n",
        "os.environ.pop(ENVIRONMENT_VAR_NAME, None)\n",
        "x=os.environ.get(ENVIRONMENT_VAR_NAME)\n",
        "x==None"
      ],
      "metadata": {
        "colab": {
          "base_uri": "https://localhost:8080/"
        },
        "id": "yCx7SsZIt3Zd",
        "outputId": "eb8c7a01-4246-453c-e0a9-413944295c17"
      },
      "execution_count": 44,
      "outputs": [
        {
          "output_type": "execute_result",
          "data": {
            "text/plain": [
              "True"
            ]
          },
          "metadata": {},
          "execution_count": 44
        }
      ]
    },
    {
      "cell_type": "code",
      "source": [
        "# create a file and store on drive\n",
        "!echo \"export TEST_ENV_VAR_COLAB=\\\"this is my test environment variable for colab\\\"\" > \"/content/drive/MyDrive/ENV_VARS/env_test.txt\""
      ],
      "metadata": {
        "id": "Okxhd9Y1uMne"
      },
      "execution_count": 45,
      "outputs": []
    },
    {
      "cell_type": "code",
      "source": [
        "# print the file contents\n",
        "!cat \"/content/drive/MyDrive/ENV_VARS/env_test.txt\""
      ],
      "metadata": {
        "colab": {
          "base_uri": "https://localhost:8080/"
        },
        "id": "q5aVaaOuvzcO",
        "outputId": "c4fa3664-b7c6-4b8f-dd2f-845997747adf"
      },
      "execution_count": 46,
      "outputs": [
        {
          "output_type": "stream",
          "name": "stdout",
          "text": [
            "export TEST_ENV_VAR_COLAB=\"this is my test environment variable for colab\"\n"
          ]
        }
      ]
    },
    {
      "cell_type": "code",
      "source": [
        "# install dotenv\n",
        "!pip install python-dotenv"
      ],
      "metadata": {
        "colab": {
          "base_uri": "https://localhost:8080/"
        },
        "id": "TlbUv69SzHZQ",
        "outputId": "703eea73-925e-4a2a-d5a1-15297ca01135"
      },
      "execution_count": 47,
      "outputs": [
        {
          "output_type": "stream",
          "name": "stdout",
          "text": [
            "Requirement already satisfied: python-dotenv in /usr/local/lib/python3.10/dist-packages (1.0.0)\n"
          ]
        }
      ]
    },
    {
      "cell_type": "code",
      "source": [
        "# load variables from file\n",
        "import dotenv\n",
        "\n",
        "dotenv.load_dotenv(ENVIRONMENT_VAR_PATH, override=True)"
      ],
      "metadata": {
        "colab": {
          "base_uri": "https://localhost:8080/"
        },
        "id": "YDy3WGwPyZj4",
        "outputId": "c769c62e-7566-46b0-f24e-6f45d95f5568"
      },
      "execution_count": 48,
      "outputs": [
        {
          "output_type": "execute_result",
          "data": {
            "text/plain": [
              "True"
            ]
          },
          "metadata": {},
          "execution_count": 48
        }
      ]
    },
    {
      "cell_type": "code",
      "source": [
        "# TEST VARIABLES EXIST\n",
        "import os\n",
        "\n",
        "os.environ.get(ENVIRONMENT_VAR_NAME)"
      ],
      "metadata": {
        "colab": {
          "base_uri": "https://localhost:8080/",
          "height": 35
        },
        "id": "4p2ZyGopBiI3",
        "outputId": "71ed4546-8133-468f-f78b-68a82c60e7a9"
      },
      "execution_count": 49,
      "outputs": [
        {
          "output_type": "execute_result",
          "data": {
            "text/plain": [
              "'this is my test environment variable for colab'"
            ],
            "application/vnd.google.colaboratory.intrinsic+json": {
              "type": "string"
            }
          },
          "metadata": {},
          "execution_count": 49
        }
      ]
    },
    {
      "cell_type": "code",
      "source": [],
      "metadata": {
        "id": "J69kdNWm0RxY"
      },
      "execution_count": null,
      "outputs": []
    }
  ]
}