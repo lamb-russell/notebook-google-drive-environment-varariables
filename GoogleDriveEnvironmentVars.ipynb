{
  "nbformat": 4,
  "nbformat_minor": 0,
  "metadata": {
    "colab": {
      "provenance": []
    },
    "kernelspec": {
      "name": "python3",
      "display_name": "Python 3"
    },
    "language_info": {
      "name": "python"
    }
  },
  "cells": [
    {
      "cell_type": "code",
      "execution_count": 10,
      "metadata": {
        "id": "VKMgKcLA_KIH"
      },
      "outputs": [],
      "source": [
        "ENVIRONMENT_VAR_PATH=\"/content/drive/MyDrive/ENV_VARS/env_test.txt\"\n",
        "GOOGLE_DRIVE_ROOT=\"/content/drive\"\n",
        "ENVIRONMENT_VAR_NAME=\"TEST_ENV_VAR_COLAB\""
      ]
    },
    {
      "cell_type": "markdown",
      "source": [
        "# Load Environment Variables from Google Drive\n",
        "\n",
        "This notebook shows an exmaple of how to store and load environment variables to and from Google Drive\n",
        "\n",
        "1. mount your google drive\n",
        "1. test variables do not exist\n",
        "1. Create a file with environment variables\n",
        "1. Store file on google drive\n",
        "1. install dotenv\n",
        "1. load env variables from file using dotenv\n",
        "1. test variables exist"
      ],
      "metadata": {
        "id": "AWlsjMietO5B"
      }
    },
    {
      "cell_type": "code",
      "source": [
        "# Mount google drive\n",
        "from google.colab import drive\n",
        "\n",
        "drive.mount(GOOGLE_DRIVE_ROOT)"
      ],
      "metadata": {
        "colab": {
          "base_uri": "https://localhost:8080/"
        },
        "id": "riVILFubtNhy",
        "outputId": "18c471fa-18a5-4572-8060-c86e0913e3af"
      },
      "execution_count": 11,
      "outputs": [
        {
          "output_type": "stream",
          "name": "stdout",
          "text": [
            "Drive already mounted at /content/drive; to attempt to forcibly remount, call drive.mount(\"/content/drive\", force_remount=True).\n"
          ]
        }
      ]
    },
    {
      "cell_type": "code",
      "source": [
        "# check environment var is empty\n",
        "import os\n",
        "\n",
        "x=os.environ.get(ENVIRONMENT_VAR_NAME)\n",
        "x==None"
      ],
      "metadata": {
        "colab": {
          "base_uri": "https://localhost:8080/"
        },
        "id": "yCx7SsZIt3Zd",
        "outputId": "166d510f-2998-4831-f877-f0eb9bc2701c"
      },
      "execution_count": 12,
      "outputs": [
        {
          "output_type": "execute_result",
          "data": {
            "text/plain": [
              "True"
            ]
          },
          "metadata": {},
          "execution_count": 12
        }
      ]
    },
    {
      "cell_type": "code",
      "source": [
        "# create a file and store on drive\n",
        "!echo \"export TEST_ENV_VAR_COLAB=\\\"this is my test environment variable for colab\\\"\\nexport RUSS_TEST_DRIVE=\\\"you got it dude\\\"\" \"/content/drive/MyDrive/ENV_VARS/env_test.txt\""
      ],
      "metadata": {
        "colab": {
          "base_uri": "https://localhost:8080/"
        },
        "id": "Okxhd9Y1uMne",
        "outputId": "b54a417f-e25d-4796-9770-4478b15c2e65"
      },
      "execution_count": 13,
      "outputs": [
        {
          "output_type": "stream",
          "name": "stdout",
          "text": [
            "export TEST_ENV_VAR_COLAB=\"this is my test environment variable for colab\"\\nexport RUSS_TEST_DRIVE=\"you got it dude\" /content/drive/MyDrive/ENV_VARS/env_test.txt\n"
          ]
        }
      ]
    },
    {
      "cell_type": "code",
      "source": [
        "# print the file contents\n",
        "!cat \"/content/drive/MyDrive/ENV_VARS/env_test.txt\""
      ],
      "metadata": {
        "colab": {
          "base_uri": "https://localhost:8080/"
        },
        "id": "q5aVaaOuvzcO",
        "outputId": "ff5d5164-0aa5-41c2-c40e-4c562a8a86a1"
      },
      "execution_count": 14,
      "outputs": [
        {
          "output_type": "stream",
          "name": "stdout",
          "text": [
            "export TEST_ENV_VAR_COLAB=\"this is my test environment variable for colab\"\n",
            "export RUSS_TEST_DRIVE=\"you got it dude\"\n"
          ]
        }
      ]
    },
    {
      "cell_type": "code",
      "source": [
        "# install dotenv\n",
        "!pip install python-dotenv"
      ],
      "metadata": {
        "colab": {
          "base_uri": "https://localhost:8080/"
        },
        "id": "TlbUv69SzHZQ",
        "outputId": "a399ce66-dea2-4fbe-c7d1-5ab0d85118a7"
      },
      "execution_count": 15,
      "outputs": [
        {
          "output_type": "stream",
          "name": "stdout",
          "text": [
            "Collecting python-dotenv\n",
            "  Downloading python_dotenv-1.0.0-py3-none-any.whl (19 kB)\n",
            "Installing collected packages: python-dotenv\n",
            "Successfully installed python-dotenv-1.0.0\n"
          ]
        }
      ]
    },
    {
      "cell_type": "code",
      "source": [
        "# load variables from file\n",
        "import dotenv\n",
        "\n",
        "dotenv.load_dotenv(ENVIRONMENT_VAR_PATH, override=True)"
      ],
      "metadata": {
        "colab": {
          "base_uri": "https://localhost:8080/"
        },
        "id": "YDy3WGwPyZj4",
        "outputId": "cabdfc41-c6bb-4dc5-a621-caf99b567457"
      },
      "execution_count": 16,
      "outputs": [
        {
          "output_type": "execute_result",
          "data": {
            "text/plain": [
              "True"
            ]
          },
          "metadata": {},
          "execution_count": 16
        }
      ]
    },
    {
      "cell_type": "code",
      "source": [
        "# TEST VARIABLES EXIST\n",
        "import os\n",
        "\n",
        "os.environ.get(ENVIRONMENT_VAR_NAME)"
      ],
      "metadata": {
        "colab": {
          "base_uri": "https://localhost:8080/",
          "height": 35
        },
        "id": "4p2ZyGopBiI3",
        "outputId": "8578351c-2739-476c-c7b2-e048b3891365"
      },
      "execution_count": 17,
      "outputs": [
        {
          "output_type": "execute_result",
          "data": {
            "text/plain": [
              "'this is my test environment variable for colab'"
            ],
            "application/vnd.google.colaboratory.intrinsic+json": {
              "type": "string"
            }
          },
          "metadata": {},
          "execution_count": 17
        }
      ]
    }
  ]
}